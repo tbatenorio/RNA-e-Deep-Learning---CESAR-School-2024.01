{
  "cells": [
    {
      "cell_type": "markdown",
      "metadata": {
        "id": "oybr0ygpH3at"
      },
      "source": [
        "# Regressão Linear com PyTorch"
      ]
    },
    {
      "cell_type": "markdown",
      "metadata": {
        "id": "4AZBwvGWH3au"
      },
      "source": [
        "## Objetivos"
      ]
    },
    {
      "cell_type": "markdown",
      "metadata": {
        "id": "PesKBcQYH3av"
      },
      "source": [
        "Este exemplo utiliza regressão linear para estimar o comprimento das sépalas da íris a partir do seu comprimento das pétalas.\n",
        "Utiliza-se:\n",
        "- a função de perda MSE do PyTorch,\n",
        "- treinamento dos parâmetros via gradiente descendente usando o otimizador.\n",
        "- A rede é criada com uma camada nn.Linear()"
      ]
    },
    {
      "cell_type": "markdown",
      "metadata": {
        "id": "rPwFmfTpH3ax"
      },
      "source": [
        "## Importação dos pacotes"
      ]
    },
    {
      "cell_type": "code",
      "execution_count": 1,
      "metadata": {
        "ExecuteTime": {
          "end_time": "2017-10-08T11:23:37.927166Z",
          "start_time": "2017-10-08T11:23:36.900382Z"
        },
        "colab": {
          "base_uri": "https://localhost:8080/"
        },
        "id": "EJa19XZsH3ax",
        "outputId": "40657ee5-7343-44c4-cda2-02ef221e425d"
      },
      "outputs": [
        {
          "output_type": "execute_result",
          "data": {
            "text/plain": [
              "<torch._C.Generator at 0x7cf02791fb70>"
            ]
          },
          "metadata": {},
          "execution_count": 1
        }
      ],
      "source": [
        "%matplotlib inline\n",
        "import torch\n",
        "from torch import nn, optim\n",
        "from torch.autograd import Variable\n",
        "import numpy as np\n",
        "import matplotlib.pyplot as plt\n",
        "from sklearn.datasets import load_iris\n",
        "\n",
        "torch.manual_seed(1234)"
      ]
    },
    {
      "cell_type": "markdown",
      "metadata": {
        "id": "zkVqshBgH3a3"
      },
      "source": [
        "## Leitura dos dados"
      ]
    },
    {
      "cell_type": "code",
      "execution_count": 3,
      "metadata": {
        "ExecuteTime": {
          "end_time": "2017-10-08T11:23:37.946805Z",
          "start_time": "2017-10-08T11:23:37.929142Z"
        },
        "colab": {
          "base_uri": "https://localhost:8080/"
        },
        "id": "FNRdrYnrH3a4",
        "outputId": "f847870a-8254-4f6d-fb38-9f7fe85ffa19"
      },
      "outputs": [
        {
          "output_type": "stream",
          "name": "stdout",
          "text": [
            "x_train.shape: (50, 1) float32\n",
            "y_train.shape: (50, 1) float32\n",
            "x_train[:5]:\n",
            " [[7. ]\n",
            " [6.4]\n",
            " [6.9]\n",
            " [5.5]\n",
            " [6.5]]\n",
            "y_train[:5]:\n",
            " [[4.7]\n",
            " [4.5]\n",
            " [4.9]\n",
            " [4. ]\n",
            " [4.6]]\n"
          ]
        }
      ],
      "source": [
        "iris = load_iris()\n",
        "data = iris.data[iris.target==1,::2]  # comprimento das sépalas e pétalas, indices 0 e 2\n",
        "\n",
        "x_train = data[:,0:1].astype(np.float32)\n",
        "y_train = data[:,1:2].astype(np.float32)\n",
        "\n",
        "n_samples = x_train.shape[0]\n",
        "print('x_train.shape:',x_train.shape, x_train.dtype)\n",
        "print('y_train.shape:',y_train.shape, y_train.dtype)\n",
        "\n",
        "print('x_train[:5]:\\n', x_train[:5])\n",
        "print('y_train[:5]:\\n', y_train[:5])"
      ]
    },
    {
      "cell_type": "markdown",
      "metadata": {
        "id": "CI2oB--zH3a7"
      },
      "source": [
        "### Normalização dos dados"
      ]
    },
    {
      "cell_type": "code",
      "execution_count": 4,
      "metadata": {
        "ExecuteTime": {
          "end_time": "2017-10-08T11:23:37.956211Z",
          "start_time": "2017-10-08T11:23:37.949927Z"
        },
        "id": "VwvLO3hIH3a9"
      },
      "outputs": [],
      "source": [
        "x_train -= x_train.min()\n",
        "x_train /= x_train.max()\n",
        "y_train -= y_train.min()\n",
        "y_train /= y_train.max()\n"
      ]
    },
    {
      "cell_type": "code",
      "execution_count": 5,
      "metadata": {
        "ExecuteTime": {
          "end_time": "2017-10-08T11:23:37.963170Z",
          "start_time": "2017-10-08T11:23:37.958475Z"
        },
        "id": "lKjd3VQNH3a-"
      },
      "outputs": [],
      "source": [
        "x_train_bias = np.hstack([np.ones(shape=(n_samples,1)), x_train])"
      ]
    },
    {
      "cell_type": "code",
      "execution_count": 6,
      "metadata": {
        "ExecuteTime": {
          "end_time": "2017-10-08T11:23:37.970031Z",
          "start_time": "2017-10-08T11:23:37.965786Z"
        },
        "id": "R2gg3Z8zH3bB"
      },
      "outputs": [],
      "source": [
        "x_train_bias = torch.FloatTensor(x_train_bias)\n",
        "y_train      = torch.FloatTensor(y_train)"
      ]
    },
    {
      "cell_type": "markdown",
      "metadata": {
        "id": "Zj_4-yzuH3bE"
      },
      "source": [
        "## Criação do modelo da rede"
      ]
    },
    {
      "cell_type": "code",
      "execution_count": 7,
      "metadata": {
        "ExecuteTime": {
          "end_time": "2017-10-08T11:23:37.978113Z",
          "start_time": "2017-10-08T11:23:37.972879Z"
        },
        "id": "AxkP2_ojH3bE"
      },
      "outputs": [],
      "source": [
        "model = torch.nn.Linear(2, 1, bias=False)"
      ]
    },
    {
      "cell_type": "markdown",
      "metadata": {
        "id": "G4azDkxbH3bI"
      },
      "source": [
        "### Verificando a inicialização dos parâmetros"
      ]
    },
    {
      "cell_type": "code",
      "execution_count": 8,
      "metadata": {
        "ExecuteTime": {
          "end_time": "2017-10-08T11:23:37.989441Z",
          "start_time": "2017-10-08T11:23:37.980969Z"
        },
        "colab": {
          "base_uri": "https://localhost:8080/"
        },
        "id": "hihjBHEFH3bJ",
        "outputId": "be8c6948-b80c-4cad-dbb6-9937c2442491"
      },
      "outputs": [
        {
          "output_type": "stream",
          "name": "stderr",
          "text": [
            "<ipython-input-8-e458ff4bc28e>:2: FutureWarning: `nn.init.uniform` is now deprecated in favor of `nn.init.uniform_`.\n",
            "  torch.nn.init.uniform(model.weight.data, -0.1, 0.1)\n"
          ]
        },
        {
          "output_type": "execute_result",
          "data": {
            "text/plain": [
              "tensor([[-0.0480, -0.0267]])"
            ]
          },
          "metadata": {},
          "execution_count": 8
        }
      ],
      "source": [
        "model.weight.data = torch.zeros(1,2)\n",
        "torch.nn.init.uniform(model.weight.data, -0.1, 0.1)\n",
        "model.weight.data"
      ]
    },
    {
      "cell_type": "markdown",
      "metadata": {
        "id": "plBKu2guH3bM"
      },
      "source": [
        "### Testando o predict da rede"
      ]
    },
    {
      "cell_type": "code",
      "execution_count": 9,
      "metadata": {
        "ExecuteTime": {
          "end_time": "2017-10-08T11:23:38.041043Z",
          "start_time": "2017-10-08T11:23:37.992008Z"
        },
        "colab": {
          "base_uri": "https://localhost:8080/"
        },
        "id": "o9X_PZ8jH3bM",
        "outputId": "972f963c-9440-4402-9650-a1f65001202f"
      },
      "outputs": [
        {
          "output_type": "execute_result",
          "data": {
            "text/plain": [
              "tensor([[-0.0747],\n",
              "        [-0.0747],\n",
              "        [-0.0747],\n",
              "        [-0.0747],\n",
              "        [-0.0747]], grad_fn=<MmBackward0>)"
            ]
          },
          "metadata": {},
          "execution_count": 9
        }
      ],
      "source": [
        "model(Variable(torch.ones((5,2))))"
      ]
    },
    {
      "cell_type": "markdown",
      "metadata": {
        "id": "NDVeAyDCH3bQ"
      },
      "source": [
        "## Treinamento"
      ]
    },
    {
      "cell_type": "markdown",
      "metadata": {
        "id": "8p4jG3kqH3bR"
      },
      "source": [
        "### Definindo função de perda e otimizador"
      ]
    },
    {
      "cell_type": "code",
      "execution_count": 10,
      "metadata": {
        "ExecuteTime": {
          "end_time": "2017-10-08T11:23:38.049936Z",
          "start_time": "2017-10-08T11:23:38.043559Z"
        },
        "id": "yzC5JAvtH3bR"
      },
      "outputs": [],
      "source": [
        "criterion = nn.MSELoss()\n",
        "optimizer = optim.SGD(model.parameters(), lr=0.3)"
      ]
    },
    {
      "cell_type": "markdown",
      "metadata": {
        "id": "JJe4KvCdH3bV"
      },
      "source": [
        "### Laço de treinamento"
      ]
    },
    {
      "cell_type": "code",
      "execution_count": 11,
      "metadata": {
        "ExecuteTime": {
          "end_time": "2017-10-08T11:23:38.128839Z",
          "start_time": "2017-10-08T11:23:38.053061Z"
        },
        "colab": {
          "base_uri": "https://localhost:8080/"
        },
        "id": "P_icCuI9H3bW",
        "outputId": "d4f589ed-20e7-4f38-ceb3-0a4e123c6c76",
        "scrolled": false
      },
      "outputs": [
        {
          "output_type": "stream",
          "name": "stdout",
          "text": [
            "Epoch[20/120], loss: 0.024990\n",
            "Epoch[40/120], loss: 0.022381\n",
            "Epoch[60/120], loss: 0.021554\n",
            "Epoch[80/120], loss: 0.021291\n",
            "Epoch[100/120], loss: 0.021208\n",
            "Epoch[120/120], loss: 0.021182\n"
          ]
        }
      ],
      "source": [
        "num_epochs = 120\n",
        "w0_list = []\n",
        "w1_list = []\n",
        "for epoch in range(num_epochs):\n",
        "    inputs = Variable(x_train_bias)\n",
        "    target = Variable(y_train)\n",
        "\n",
        "    # forward - predict\n",
        "    out = model(inputs)\n",
        "\n",
        "    w0_list.append(model.weight.data[0][0].item())\n",
        "    w1_list.append(model.weight.data[0][1].item())\n",
        "\n",
        "    #loss cálculo da função de perda\n",
        "    loss = criterion(out, target)\n",
        "\n",
        "    # backward e otimizador\n",
        "    optimizer.zero_grad()\n",
        "    loss.backward()\n",
        "    optimizer.step()\n",
        "\n",
        "    # verbose\n",
        "    if (epoch+1) % 20 == 0:\n",
        "        print('Epoch[{}/{}], loss: {:.6f}'\n",
        "              .format(epoch+1, num_epochs, loss.data))"
      ]
    },
    {
      "cell_type": "markdown",
      "metadata": {
        "id": "krvBJhZIH3bd"
      },
      "source": [
        "## Avaliação"
      ]
    },
    {
      "cell_type": "code",
      "execution_count": 12,
      "metadata": {
        "ExecuteTime": {
          "end_time": "2017-10-08T11:23:38.343311Z",
          "start_time": "2017-10-08T11:23:38.131051Z"
        },
        "colab": {
          "base_uri": "https://localhost:8080/",
          "height": 430
        },
        "id": "ImMHVPKMH3bf",
        "outputId": "4738384f-c2c3-4a11-b11a-be34524e5bbc"
      },
      "outputs": [
        {
          "output_type": "display_data",
          "data": {
            "text/plain": [
              "<Figure size 640x480 with 1 Axes>"
            ],
            "image/png": "[encoded data removed]"
          },
          "metadata": {}
        }
      ],
      "source": [
        "y_pred = model(Variable(x_train_bias))\n",
        "plt.plot(x_train, y_train.numpy(), 'ro', label='Original data')\n",
        "plt.plot(x_train, y_pred.data.numpy(), 'kx-', label='Fitting Line')\n",
        "plt.show()"
      ]
    },
    {
      "cell_type": "markdown",
      "metadata": {
        "collapsed": true,
        "id": "bStL-pkSH3bt"
      },
      "source": [
        "# Exercícios"
      ]
    },
    {
      "cell_type": "markdown",
      "metadata": {
        "id": "_nMQjjzmH3bt"
      },
      "source": [
        "- 1) Calcule o valor da função de custo (MSE) depois da rede treinada, utilizando a\n",
        "   função `criterion` utilizada no laço de treinamento."
      ]
    },
    {
      "cell_type": "code",
      "execution_count": 13,
      "metadata": {
        "id": "5AbEW9ifDYpW",
        "colab": {
          "base_uri": "https://localhost:8080/"
        },
        "outputId": "5c7a127c-4090-4385-9c30-54cc0e40c514"
      },
      "outputs": [
        {
          "output_type": "execute_result",
          "data": {
            "text/plain": [
              "tensor(0.0212, grad_fn=<MseLossBackward0>)"
            ]
          },
          "metadata": {},
          "execution_count": 13
        }
      ],
      "source": [
        "#todo\n",
        "inputs_02 = Variable(x_train_bias)\n",
        "target_02 = Variable(y_train)\n",
        "\n",
        "# forward - predict\n",
        "out_02 = model(inputs_02)\n",
        "\n",
        "loss = criterion(out_02, target_02)\n",
        "\n",
        "loss"
      ]
    },
    {
      "cell_type": "markdown",
      "metadata": {
        "id": "DiOnFTWaDYpW"
      },
      "source": [
        "<details>\n",
        "<summary>Mostrar Resultado</summary>\n",
        "\n",
        "```python\n",
        "y_pred = model(Variable(x_train_bias))\n",
        "loss = criterion(y_pred, Variable(y_train))\n",
        "print(loss)\n",
        "```\n",
        "\n",
        "</details>"
      ]
    },
    {
      "cell_type": "markdown",
      "metadata": {
        "id": "xovYuu6-H3bu"
      },
      "source": [
        "- 2) Faça igual o exercício do notebook anterior, de plotar um gráfico scatterplot para\n",
        "   mostrar a evolução dos parâmetros durante o treinamento pelo gradiente descendente."
      ]
    },
    {
      "cell_type": "code",
      "execution_count": 14,
      "metadata": {
        "id": "tpXoJNmWCthR",
        "colab": {
          "base_uri": "https://localhost:8080/",
          "height": 432
        },
        "outputId": "a1c73431-4dd2-438d-d593-f410756f7e9e"
      },
      "outputs": [
        {
          "output_type": "display_data",
          "data": {
            "text/plain": [
              "<Figure size 640x480 with 1 Axes>"
            ],
            "image/png": "[encoded data removed]"
          },
          "metadata": {}
        }
      ],
      "source": [
        "# todo\n",
        "\n",
        "plt.scatter(w0_list,w1_list)\n",
        "w0_old = None\n",
        "for (w0,w1) in zip(w0_list,w1_list):\n",
        "    if w0_old:\n",
        "        plt.arrow(w0_old, w1_old, w0-w0_old, w1-w1_old,\n",
        "                  head_length=0.01,head_width=0.01,shape='full',\n",
        "                  length_includes_head=True)\n",
        "    w0_old,w1_old = w0,w1"
      ]
    },
    {
      "cell_type": "markdown",
      "metadata": {
        "id": "aCpMAKMnDYpW"
      },
      "source": [
        "<details>\n",
        "<summary>Mostrar Resultado</summary>\n",
        "\n",
        "```python\n",
        "plt.scatter(w0_list,w1_list)\n",
        "w0_old = None\n",
        "for (w0,w1) in zip(w0_list,w1_list):\n",
        "    if w0_old:\n",
        "        plt.arrow(w0_old, w1_old, w0-w0_old, w1-w1_old,\n",
        "                  head_length=0.01,head_width=0.01,shape='full',\n",
        "                  length_includes_head=True)\n",
        "    w0_old,w1_old = w0,w1\n",
        "```\n",
        "\n",
        "</details>"
      ]
    },
    {
      "cell_type": "markdown",
      "metadata": {
        "id": "P_si86jRH3bw"
      },
      "source": [
        "# Aprendizados"
      ]
    },
    {
      "cell_type": "markdown",
      "metadata": {
        "collapsed": true,
        "id": "rrRR4zs3H3bx"
      },
      "source": []
    }
  ],
  "metadata": {
    "colab": {
      "provenance": []
    },
    "kernelspec": {
      "display_name": "Python 3.10.2 64-bit",
      "language": "python",
      "name": "python3"
    },
    "language_info": {
      "name": "python",
      "version": "3.10.2"
    },
    "vscode": {
      "interpreter": {
        "hash": "5fe3e6f0cdaab8afdc61c52912fda83f7c0a71baaea1897dd7498e2df01e69ec"
      }
    }
  },
  "nbformat": 4,
  "nbformat_minor": 0
}